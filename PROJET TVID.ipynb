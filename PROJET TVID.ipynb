{
 "cells": [
  {
   "cell_type": "markdown",
   "id": "a5400174",
   "metadata": {},
   "source": [
    "# PROJET TVID"
   ]
  },
  {
   "cell_type": "code",
   "execution_count": 13,
   "id": "5f3766e8",
   "metadata": {},
   "outputs": [],
   "source": [
    "import numpy as np\n",
    "from PIL import Image"
   ]
  },
  {
   "cell_type": "markdown",
   "id": "2ff08a7f",
   "metadata": {},
   "source": [
    "## A. Jouer un flux MPEG-2 élémentaire de test"
   ]
  },
  {
   "cell_type": "markdown",
   "id": "48ab24bf",
   "metadata": {},
   "source": [
    "### 1. Dans le dossier videos/elementary, avec vlc, visualisez les séquences MPEG-2 suivantes : \n",
    "### _vlc -V \\<renderer> bw_numbers.m2v / pendulum.m2v / Jaggies1.m2v_"
   ]
  },
  {
   "cell_type": "markdown",
   "id": "59153500",
   "metadata": {},
   "source": [
    "Les commandes utilisees sont :\n",
    "- vlc -V x11 bw_numbers.m2v\n",
    "- vlc -V x11 pendulum.m2v\n",
    "- vlc -V x11 Jaggies1.m2v"
   ]
  },
  {
   "cell_type": "markdown",
   "id": "0a879069",
   "metadata": {},
   "source": [
    " <img src=\"./screenshots/1.png\" title=\"bw_numbers\">\n",
    " <img src=\"./screenshots/2.png\" title=\"pendulum\">\n",
    " <img src=\"./screenshots/3.png\" title=\"Jaggles1\">"
   ]
  },
  {
   "cell_type": "markdown",
   "id": "06e437c0",
   "metadata": {},
   "source": [
    "### 2. Avec mpeg2dec, convertissez en pile d’images votre séquence MPEG-2 choisie (cf. aide de mpeg2dec)."
   ]
  },
  {
   "cell_type": "markdown",
   "id": "d891d942",
   "metadata": {},
   "source": [
    "Nous avons cree un dossier pgm_images a la racine du projet, et avons effectue cette commande :\n",
    "- _../tools/mpeg2dec/src/mpeg2dec -o pgm ../videos/elementary/bw_numbers.m2v_\n",
    "\n",
    "Pour convertir la sequence bw_numbers.m2v en pile d'images.\n",
    "\n",
    " <img src=\"./screenshots/pgm_0.png\" title=\"0\">"
   ]
  },
  {
   "cell_type": "markdown",
   "id": "5c5f5574",
   "metadata": {},
   "source": [
    "### 3. Observez les pgm générées. Comment sont-elles structurées? Quel est le format de l’image: résolution, profondeur, sampling mode?"
   ]
  },
  {
   "cell_type": "code",
   "execution_count": 11,
   "id": "fcdf12c3",
   "metadata": {},
   "outputs": [
    {
     "name": "stdout",
     "output_type": "stream",
     "text": [
      "Format: PPM\n",
      "Resolution: (720, 720)\n",
      "Mode: L\n",
      "Color palette: None\n"
     ]
    }
   ],
   "source": [
    "img = Image.open('./pgm_images/0.pgm')\n",
    "\n",
    "print(f\"Format: {img.format}\")\n",
    "print(f\"Resolution: {img.size}\")\n",
    "print(f\"Mode: {img.mode}\")\n",
    "print(f\"Color palette: {img.palette}\")"
   ]
  },
  {
   "cell_type": "markdown",
   "id": "1ee562dd",
   "metadata": {},
   "source": [
    "Nos images sont au format PGM. Ce sont des images en niveaux de gris (sur 8-bit). Elles ont une resolution de 720x720.\n",
    "\n",
    " <img src=\"./screenshots/bw_numbers_infos.png\" title=\"bw_numbers_infos\">\n",
    " \n",
    "En regardant les informations de la video originale, nous pouvons voir que la resolution est de 720x480, que la profondeur est de 8-bit, et que le sampling mode est en 4:2:0 YUV.\n",
    "\n",
    "Les frames sont composes de 2 images consécutives entrelacées dans une même image (top first field).\n",
    "\n",
    "Les informations de la video ont ete generees par cette commande :\n",
    "- ffmpeg -i bw_numbers.m2v"
   ]
  },
  {
   "cell_type": "markdown",
   "id": "363171a8",
   "metadata": {},
   "source": [
    "### 4. Modifiez mpeg2dec pour logger simplement les flags progressive_frame, top_field_first, repeat_first_field de chaque image décodée."
   ]
  },
  {
   "cell_type": "markdown",
   "id": "9655f813",
   "metadata": {},
   "source": [
    "Pour logger simplement les flags progressive_frame (PROG), top_field_first (TFF) et repeat_first_field (RFF) pour chaque image decodee, il faut modifier le fichier :\n",
    "- mpeg2dec/src/mpeg2dec.c, ligne 55\n",
    "\n",
    "en mettant la variable __verbose__ a 1 :\n",
    "- static int verbose = 1;\n",
    "\n",
    "On obtient par exemple ces logs pour la video bw_numbers.m2v :\n",
    " <img src=\"./screenshots/bw_numbers_logs.png\" title=\"bw_numbers_logs\">\n",
    " \n",
    "Les images decodee ici sont toutes TFF."
   ]
  },
  {
   "cell_type": "markdown",
   "id": "706a603d",
   "metadata": {},
   "source": [
    "### 5. Avec votre propre code et dans le langage de votre choix, implémentez un convertisseur d’images vers un format plus humainement lisible (ppm RGB est assez universel)."
   ]
  },
  {
   "cell_type": "code",
   "execution_count": 15,
   "id": "93decc92",
   "metadata": {},
   "outputs": [],
   "source": [
    "def yuv_to_rgb(y, u, v):\n",
    "    \"\"\"\n",
    "    Convert YUV pixel to RGB.\n",
    "    \"\"\"\n",
    "    r = y + 1.402 * (v - 128)\n",
    "    g = y - 0.34414 * (u - 128) - 0.71414 * (v - 128)\n",
    "    b = y + 1.772 * (u - 128)\n",
    "    return np.clip([r, g, b], 0, 255)\n",
    "\n",
    "def convert_pgm_to_ppm(pgm_path, ppm_path):\n",
    "    \"\"\"\n",
    "    Convert a PGM image (assumed to be in YUV format) to PPM (RGB format).\n",
    "    \"\"\"\n",
    "    # Load the PGM image\n",
    "    with Image.open(pgm_path) as img:\n",
    "        yuv_img = np.array(img)\n",
    "\n",
    "    # Assuming the YUV image is in YUV444 format\n",
    "    height, width = yuv_img.shape\n",
    "    rgb_img = np.zeros((height, width, 3), dtype=np.uint8)\n",
    "\n",
    "    # Convert each pixel\n",
    "    for i in range(height):\n",
    "        for j in range(width):\n",
    "            y, u, v = yuv_img[i, j], yuv_img[i, j], yuv_img[i, j] # Assuming Y, U, V are the same in grayscale image\n",
    "            rgb_img[i, j] = yuv_to_rgb(y, u, v)\n",
    "\n",
    "    # Save the result\n",
    "    Image.fromarray(rgb_img).save(ppm_path)"
   ]
  },
  {
   "cell_type": "code",
   "execution_count": 16,
   "id": "bc6064f6",
   "metadata": {},
   "outputs": [],
   "source": [
    "# Example usage\n",
    "pgm_path = './pgm_images/0.pgm'  # Replace with the actual path to your PGM file\n",
    "ppm_path = './ppm_images/0.ppm'  # Replace with the desired path for the PPM file\n",
    "convert_pgm_to_ppm(pgm_path, ppm_path)"
   ]
  },
  {
   "cell_type": "markdown",
   "id": "ca29d675",
   "metadata": {},
   "source": [
    " <img src=\"./screenshots/pgm_0.png\" title=\"pgm_0\">\n",
    " <img src=\"./screenshots/ppm_0.png\" title=\"ppm_0\">"
   ]
  },
  {
   "cell_type": "markdown",
   "id": "e015d334",
   "metadata": {},
   "source": [
    "Les deux images (pgm au dessus et ppm en dessous) semblent identiques. \n",
    "\n",
    "L'image ppm, passant du format YUV au format RGB, se voit attribuer des couleurs supplementaires, chose normale puisque les cannaux UV donnant l'information de couleur, ne servant pas dans une image pgm en noir et blanc, contribue aux informations pour les cannaux RGB lors de la conversion.\n",
    "\n",
    "La fonction de conversion semble donc fonctionner comme attendu."
   ]
  }
 ],
 "metadata": {
  "kernelspec": {
   "display_name": "Python 3 (ipykernel)",
   "language": "python",
   "name": "python3"
  },
  "language_info": {
   "codemirror_mode": {
    "name": "ipython",
    "version": 3
   },
   "file_extension": ".py",
   "mimetype": "text/x-python",
   "name": "python",
   "nbconvert_exporter": "python",
   "pygments_lexer": "ipython3",
   "version": "3.10.12"
  }
 },
 "nbformat": 4,
 "nbformat_minor": 5
}
