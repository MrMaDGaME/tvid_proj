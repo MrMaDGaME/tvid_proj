{
 "cells": [
  {
   "cell_type": "markdown",
   "id": "a5400174",
   "metadata": {},
   "source": [
    "# PROJET TVID"
   ]
  },
  {
   "cell_type": "markdown",
   "id": "2ff08a7f",
   "metadata": {},
   "source": [
    "## A. Jouer un flux MPEG-2 élémentaire de test"
   ]
  },
  {
   "cell_type": "markdown",
   "id": "48ab24bf",
   "metadata": {},
   "source": [
    "### 1. Dans le dossier videos/elementary, avec vlc, visualisez les séquences MPEG-2 suivantes : \n",
    "### _vlc -V \\<renderer> bw_numbers.m2v / pendulum.m2v / Jaggies1.m2v_"
   ]
  },
  {
   "cell_type": "markdown",
   "id": "59153500",
   "metadata": {},
   "source": [
    "Les commandes utilisees sont :\n",
    "- vlc -V x11 bw_numbers.m2v\n",
    "- vlc -V x11 pendulum.m2v\n",
    "- vlc -V x11 Jaggies1.m2v"
   ]
  },
  {
   "cell_type": "markdown",
   "id": "0a879069",
   "metadata": {},
   "source": [
    " <img src=\"./screenshots/1.png\" title=\"Image Title\">\n",
    " <img src=\"./screenshots/2.png\" title=\"Image Title\">\n",
    " <img src=\"./screenshots/3.png\" title=\"Image Title\">"
   ]
  },
  {
   "cell_type": "code",
   "execution_count": null,
   "id": "0e39e124",
   "metadata": {},
   "outputs": [],
   "source": []
  }
 ],
 "metadata": {
  "kernelspec": {
   "display_name": "Python 3",
   "language": "python",
   "name": "python3"
  },
  "language_info": {
   "codemirror_mode": {
    "name": "ipython",
    "version": 3
   },
   "file_extension": ".py",
   "mimetype": "text/x-python",
   "name": "python",
   "nbconvert_exporter": "python",
   "pygments_lexer": "ipython3",
   "version": "3.10.12"
  }
 },
 "nbformat": 4,
 "nbformat_minor": 5
}
